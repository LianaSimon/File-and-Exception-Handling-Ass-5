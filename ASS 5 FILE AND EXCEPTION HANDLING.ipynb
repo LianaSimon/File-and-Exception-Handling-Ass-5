{
 "cells": [
  {
   "cell_type": "markdown",
   "id": "449181d3-156b-4be7-908d-72771cfd706e",
   "metadata": {},
   "source": [
    "### Exercise 1: (score : 1) \n",
    "#### Write a Python program to read a file and display its contents\n"
   ]
  },
  {
   "cell_type": "code",
   "execution_count": 8,
   "id": "65d55467-bb70-4378-8087-40cce94a7a38",
   "metadata": {},
   "outputs": [
    {
     "name": "stdout",
     "output_type": "stream",
     "text": [
      "Hello , Welcome!\n"
     ]
    }
   ],
   "source": [
    "try:\n",
    "    with open('input.txt', 'r') as file:\n",
    "        content = file.read()\n",
    "        print(content)\n",
    "except FileNotFoundError:\n",
    "    print(\"File not found. Please check the filename.\")"
   ]
  },
  {
   "cell_type": "markdown",
   "id": "48fee766-9c6b-486e-bba1-0426a4b95d29",
   "metadata": {},
   "source": [
    "### Exercise 2: (score : 1) \n",
    "#### Write a Python program to copy the contents of one file to another file\n"
   ]
  },
  {
   "cell_type": "code",
   "execution_count": 10,
   "id": "45b59a28-7202-48d6-a145-454a7a36612d",
   "metadata": {},
   "outputs": [
    {
     "name": "stdout",
     "output_type": "stream",
     "text": [
      "File copied successfully.\n"
     ]
    }
   ],
   "source": [
    "try:\n",
    "    with open('input.txt', 'r') as source_file, open('output.txt', 'w') as destination_file:\n",
    "        destination_file.write(source_file.read())\n",
    "    print(\"File copied successfully.\")\n",
    "except FileNotFoundError:\n",
    "    print(\"File not found. Please check the filename.\")\n"
   ]
  },
  {
   "cell_type": "markdown",
   "id": "f32394de-2065-49d4-a975-bfe6ede2d446",
   "metadata": {},
   "source": [
    "### Exercise 3: (score : 2) \n",
    "#### Write a Python program to read the content of a file and count the total number of words in that file.\n"
   ]
  },
  {
   "cell_type": "code",
   "execution_count": 6,
   "id": "cc1c5053-0a7f-473b-aacc-81f7b5f76c45",
   "metadata": {},
   "outputs": [
    {
     "name": "stdout",
     "output_type": "stream",
     "text": [
      "Total number of words: 3\n"
     ]
    }
   ],
   "source": [
    "try:\n",
    "    with open('input.txt', 'r') as file:\n",
    "        content = file.read()\n",
    "        words = content.split()\n",
    "        print(\"Total number of words:\", len(words))\n",
    "except FileNotFoundError:\n",
    "    print(\"File not found. Please check the filename.\")"
   ]
  },
  {
   "cell_type": "markdown",
   "id": "698c2eb0-5f41-4c38-87f1-bab010fd4e6d",
   "metadata": {},
   "source": [
    "### Exercise 4: (score : 1) \n",
    "#### Write a Python program that prompts the user to input a string and converts it to an integer. Use try-except blocks to handle any exceptions that might occur\n"
   ]
  },
  {
   "cell_type": "code",
   "execution_count": 17,
   "id": "aa438f22-25b5-4003-9299-d08a71df4f7e",
   "metadata": {},
   "outputs": [
    {
     "name": "stdin",
     "output_type": "stream",
     "text": [
      "Enter a string to convert to an integer:  Liana\n"
     ]
    },
    {
     "name": "stdout",
     "output_type": "stream",
     "text": [
      "Invalid input! The string cannot be converted to an integer.\n"
     ]
    }
   ],
   "source": [
    "try:\n",
    "    user_input = input(\"Enter a string to convert to an integer: \")\n",
    "    number = int(user_input)  # Attempt conversion\n",
    "    print(\"Converted integer:\", number)\n",
    "except ValueError:\n",
    "    print(\"Invalid input! The string cannot be converted to an integer.\")\n"
   ]
  },
  {
   "cell_type": "markdown",
   "id": "cb329b5f-a222-4910-9389-a9cfe9262488",
   "metadata": {},
   "source": [
    "### Exercise 5: (score : 1) \n",
    "#### Write a Python program that prompts the user to input a list of integers and raises an exception if any of the integers in the list are negative.\n"
   ]
  },
  {
   "cell_type": "code",
   "execution_count": 28,
   "id": "b4d959ce-dcbe-4dd6-be12-e36424c52496",
   "metadata": {},
   "outputs": [
    {
     "name": "stdin",
     "output_type": "stream",
     "text": [
      "Enter a list of integers separated by spaces:  -78 54 69\n"
     ]
    },
    {
     "name": "stdout",
     "output_type": "stream",
     "text": [
      "Error: Negative numbers are not allowed!\n"
     ]
    }
   ],
   "source": [
    "try:\n",
    "    user_list = list(map(int, input(\"Enter a list of integers separated by spaces: \").split()))\n",
    "    if any(num < 0 for num in user_list):\n",
    "        raise ValueError(\"Negative numbers are not allowed!\")\n",
    "    print(\"Valid list of numbers:\", user_list)\n",
    "except ValueError as e:\n",
    "    print(\"Error:\", e)"
   ]
  },
  {
   "cell_type": "markdown",
   "id": "5468c46e-617e-4605-8ecd-c7ff45241c03",
   "metadata": {},
   "source": [
    "### Exercise 6: (score : 2) \n",
    "#### Write a Python program that prompts the user to input a list of integers and computes the average of those integers. Use try-except blocks to handle any exceptions that might occur.use the finally clause to print a message indicating that the program has finished running.\n"
   ]
  },
  {
   "cell_type": "code",
   "execution_count": 31,
   "id": "61c288da-3ad2-4513-973b-d4a0e68e2fb7",
   "metadata": {},
   "outputs": [
    {
     "name": "stdin",
     "output_type": "stream",
     "text": [
      "Enter a list of integers separated by spaces:  55 23 44\n"
     ]
    },
    {
     "name": "stdout",
     "output_type": "stream",
     "text": [
      "Average: 40.666666666666664\n",
      "Program has finished running.\n"
     ]
    }
   ],
   "source": [
    "try:\n",
    "    user_list = list(map(int, input(\"Enter a list of integers separated by spaces: \").split()))\n",
    "    average = sum(user_list) / len(user_list)\n",
    "    print(\"Average:\", average)\n",
    "except ZeroDivisionError:\n",
    "    print(\"Error: Cannot divide by zero (empty list).\")\n",
    "except ValueError:\n",
    "    print(\"Error: Please enter valid integers.\")\n",
    "finally:\n",
    "    print(\"Program has finished running.\")"
   ]
  },
  {
   "cell_type": "markdown",
   "id": "fbedcd74-fd66-4892-a024-9db9f4d78048",
   "metadata": {},
   "source": [
    "### Exercise 7 : (score : 2) \n",
    "#### Write a Python program that prompts the user to input a filename and writes a string to that file. Use try-except blocks to handle any exceptions that might occur and print a welcome message if there is no exception occurred.\n"
   ]
  },
  {
   "cell_type": "code",
   "execution_count": 34,
   "id": "3ee34470-3813-4a68-bfa9-612a6a992dfd",
   "metadata": {},
   "outputs": [
    {
     "name": "stdin",
     "output_type": "stream",
     "text": [
      "Enter the filename:  input.txt\n"
     ]
    },
    {
     "name": "stdout",
     "output_type": "stream",
     "text": [
      "File written successfully.\n",
      "Welcome! No errors occurred.\n"
     ]
    }
   ],
   "source": [
    "try:\n",
    "    filename = input(\"Enter the filename: \")\n",
    "    with open(filename, 'w') as file:\n",
    "        file.write(\"Welcome to Python programming!\")\n",
    "    print(\"File written successfully.\")\n",
    "except Exception as e:\n",
    "    print(\"Error:\", e)\n",
    "else:\n",
    "    print(\"Welcome! No errors occurred.\")\n"
   ]
  },
  {
   "cell_type": "code",
   "execution_count": null,
   "id": "6c92b2ea-dd49-405e-a2ea-cfcbcdfbe518",
   "metadata": {},
   "outputs": [],
   "source": []
  }
 ],
 "metadata": {
  "kernelspec": {
   "display_name": "Python [conda env:base] *",
   "language": "python",
   "name": "conda-base-py"
  },
  "language_info": {
   "codemirror_mode": {
    "name": "ipython",
    "version": 3
   },
   "file_extension": ".py",
   "mimetype": "text/x-python",
   "name": "python",
   "nbconvert_exporter": "python",
   "pygments_lexer": "ipython3",
   "version": "3.12.7"
  }
 },
 "nbformat": 4,
 "nbformat_minor": 5
}
